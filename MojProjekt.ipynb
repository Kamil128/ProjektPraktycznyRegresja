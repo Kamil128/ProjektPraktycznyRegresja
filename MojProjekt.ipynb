{
 "cells": [
  {
   "cell_type": "markdown",
   "id": "80b76cc6-61f2-4ec3-bc60-ce6241e6af4c",
   "metadata": {},
   "source": [
    "https://towardsdatascience.com/7-steps-to-a-successful-data-science-project-b452a9b57149"
   ]
  },
  {
   "cell_type": "markdown",
   "id": "7bd43c07-f81b-4f41-ae35-e6b19c5b1f97",
   "metadata": {},
   "source": [
    "# Problem Statement"
   ]
  },
  {
   "cell_type": "markdown",
   "id": "ac13e706-ff0e-40b1-9e40-f9e02d7bee3d",
   "metadata": {},
   "source": [
    "Description"
   ]
  },
  {
   "cell_type": "markdown",
   "id": "88237edd-8d34-4dcf-a484-8ea588126fe4",
   "metadata": {},
   "source": [
    "# Data Collection"
   ]
  },
  {
   "cell_type": "code",
   "execution_count": null,
   "id": "65d506dd-f010-44e2-851b-65c6bc3509b5",
   "metadata": {},
   "outputs": [],
   "source": [
    "\"\"\"\n",
    "data gathering...\n",
    "\"\"\"\n",
    "\n",
    "from get_data import Data\n",
    "params = {}\n",
    "data = Data(**params)\n",
    "df = data.get_data(**prams)"
   ]
  },
  {
   "cell_type": "markdown",
   "id": "ba806f64-52ee-4d6e-af35-90c90b5bfefe",
   "metadata": {},
   "source": [
    "# Data Cleaning"
   ]
  },
  {
   "cell_type": "code",
   "execution_count": null,
   "id": "57ddddae-55c4-47cf-bfbd-78711731a7bf",
   "metadata": {},
   "outputs": [],
   "source": [
    "from clean_data import Clean\n",
    "params = {}\n",
    "clean = Clean(**params)\n",
    "data.clean(**prams)"
   ]
  },
  {
   "cell_type": "markdown",
   "id": "6d757fba-6ae4-4fae-8c49-df0c48f661fc",
   "metadata": {},
   "source": [
    "# Exploratory Data Analysis (EDA)"
   ]
  },
  {
   "cell_type": "code",
   "execution_count": null,
   "id": "e02fe14e-d1d5-4db3-9272-f32b03dbc60d",
   "metadata": {},
   "outputs": [],
   "source": [
    "\"\"\"\n",
    "visualisation...\n",
    "\"\"\""
   ]
  },
  {
   "cell_type": "markdown",
   "id": "bf5b95c5-39a7-4487-920a-0214b3bb670e",
   "metadata": {
    "tags": []
   },
   "source": [
    "# Feature Engineering"
   ]
  },
  {
   "cell_type": "code",
   "execution_count": null,
   "id": "1221abd7-8852-47e3-a6fb-70253c864e57",
   "metadata": {},
   "outputs": [],
   "source": [
    "\"\"\"\n",
    "Feature Engineering...\n",
    "\"\"\""
   ]
  },
  {
   "cell_type": "markdown",
   "id": "88739a3c-a27e-4dac-bda0-d41a53523dcc",
   "metadata": {},
   "source": [
    "# Modelling"
   ]
  },
  {
   "cell_type": "code",
   "execution_count": null,
   "id": "4a088d42-f911-486b-8725-b055340b8d40",
   "metadata": {},
   "outputs": [],
   "source": [
    "\"\"\"\n",
    "Modeling...\n",
    "\"\"\"\n",
    "\n",
    "\"\"\"\n",
    "Pipeline...\n",
    "\"\"\""
   ]
  },
  {
   "cell_type": "markdown",
   "id": "4c4cb223-9d3b-4efe-aa9f-b9739c518958",
   "metadata": {},
   "source": [
    "# Communication/Presentation"
   ]
  },
  {
   "cell_type": "code",
   "execution_count": null,
   "id": "2c8791cf-9779-4ad1-8f25-5f08770b71b4",
   "metadata": {},
   "outputs": [],
   "source": [
    "\"\"\"\n",
    "Presentation...\n",
    "\"\"\""
   ]
  }
 ],
 "metadata": {
  "kernelspec": {
   "display_name": "venv_app",
   "language": "python",
   "name": "venv_app"
  },
  "language_info": {
   "codemirror_mode": {
    "name": "ipython",
    "version": 3
   },
   "file_extension": ".py",
   "mimetype": "text/x-python",
   "name": "python",
   "nbconvert_exporter": "python",
   "pygments_lexer": "ipython3",
   "version": "3.9.4"
  }
 },
 "nbformat": 4,
 "nbformat_minor": 5
}
